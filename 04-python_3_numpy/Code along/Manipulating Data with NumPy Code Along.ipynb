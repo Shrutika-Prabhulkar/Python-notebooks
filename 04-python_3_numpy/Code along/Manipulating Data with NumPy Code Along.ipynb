{
 "cells": [
  {
   "cell_type": "markdown",
   "metadata": {},
   "source": [
    "# IPL Dataset Analysis\n",
    "\n",
    "## Problem Statement\n",
    "We want to know as to what happens during an IPL match which raises several questions in our mind with our limited knowledge about the game called cricket on which it is based. This analysis is done to know as which factors led one of the team to win and how does it matter."
   ]
  },
  {
   "cell_type": "markdown",
   "metadata": {},
   "source": [
    "## About the Dataset :\n",
    "The Indian Premier League (IPL) is a professional T20 cricket league in India contested during April-May of every year by teams representing Indian cities. It is the most-attended cricket league in the world and ranks sixth among all the sports leagues. It has teams with players from around the world and is very competitive and entertaining with a lot of close matches between teams.\n",
    "\n",
    "The IPL and other cricket related datasets are available at [cricsheet.org](https://cricsheet.org/%c2%a0(data). Feel free to visit the website and explore the data by yourself as exploring new sources of data is one of the interesting activities a data scientist gets to do.\n",
    "\n",
    "## About the dataset:\n",
    "Snapshot of the data you will be working on:<br>\n",
    "<br>\n",
    "The dataset 1452 data points and 23 features<br>\n",
    "\n",
    "|Features|Description|\n",
    "|-----|-----|\n",
    "|match_code|Code pertaining to individual match|\n",
    "|date|Date of the match played|\n",
    "|city|Location where the match was played|\n",
    "|team1|team1|\n",
    "|team2|team2|\n",
    "|toss_winner|Who won the toss out of two teams|\n",
    "|toss_decision|toss decision taken by toss winner|\n",
    "|winner|Winner of that match between two teams|\n",
    "|win_type|How did the team won(by wickets or runs etc.)|\n",
    "|win_margin|difference with which the team won| \n",
    "|inning|inning type(1st or 2nd)|\n",
    "|delivery|ball delivery|\n",
    "|batting_team|current team on batting|\n",
    "|batsman|current batsman on strike|\n",
    "|non_striker|batsman on non-strike|\n",
    "|bowler|Current bowler|\n",
    "|runs|runs scored|\n",
    "|extras|extra run scored|\n",
    "|total|total run scored on that delivery including runs and extras|\n",
    "|extras_type|extra run scored by wides or no ball or legby|\n",
    "|player_out|player that got out|\n",
    "|wicket_kind|How did the player got out|\n",
    "|wicket_fielders|Fielder who caught out the player by catch|\n"
   ]
  },
  {
   "cell_type": "markdown",
   "metadata": {},
   "source": [
    "### Analysing data using numpy module"
   ]
  },
  {
   "cell_type": "markdown",
   "metadata": {},
   "source": [
    "### Read the data using numpy module."
   ]
  },
  {
   "cell_type": "code",
   "execution_count": 7,
   "metadata": {},
   "outputs": [
    {
     "data": {
      "text/plain": [
       "array([['392203', '2009-05-01', 'East London', ..., '', '', ''],\n",
       "       ['392203', '2009-05-01', 'East London', ..., '', '', ''],\n",
       "       ['392203', '2009-05-01', 'East London', ..., '', '', ''],\n",
       "       ...,\n",
       "       ['335987', '2008-04-21', 'Jaipur', ..., '', '', ''],\n",
       "       ['335987', '2008-04-21', 'Jaipur', ..., '', '', ''],\n",
       "       ['335987', '2008-04-21', 'Jaipur', ..., '', '', '']], dtype='<U21')"
      ]
     },
     "execution_count": 7,
     "metadata": {},
     "output_type": "execute_result"
    }
   ],
   "source": [
    "import numpy as np\n",
    "# Not every data format will be in csv there are other file formats also.\n",
    "# This exercise will help you deal with other file formats and how toa read it.\n",
    "path = './data/ipl_matches_small.csv'\n",
    "data_ipl = np.genfromtxt(path, delimiter=',',skip_header = 1, dtype=str)\n",
    "data_ipl\n"
   ]
  },
  {
   "cell_type": "code",
   "execution_count": 8,
   "metadata": {},
   "outputs": [
    {
     "data": {
      "text/plain": [
       "array(['Kolkata Knight Riders', 'Kolkata Knight Riders',\n",
       "       'Kolkata Knight Riders', ..., 'Rajasthan Royals',\n",
       "       'Rajasthan Royals', 'Rajasthan Royals'], dtype='<U21')"
      ]
     },
     "execution_count": 8,
     "metadata": {},
     "output_type": "execute_result"
    }
   ],
   "source": [
    "data_ipl[:,3]"
   ]
  },
  {
   "cell_type": "markdown",
   "metadata": {},
   "source": [
    "### Calculate the unique no. of matches in the provided dataset ?"
   ]
  },
  {
   "cell_type": "code",
   "execution_count": 9,
   "metadata": {},
   "outputs": [
    {
     "name": "stdout",
     "output_type": "stream",
     "text": [
      "['335987' '392197' '392203' '392212' '501226' '729297']\n",
      "Unique matches played is- 6\n"
     ]
    }
   ],
   "source": [
    "# How many matches were held in total we need to know so that we can analyze further statistics keeping that in mind.\n",
    "\n",
    "#numpy.unique(ar, return_index=False, return_inverse=False, return_counts=False, axis=None)\n",
    "\n",
    "match_code= data_ipl[:,0]\n",
    "unique_code= np.unique(match_code)\n",
    "\n",
    "print(unique_code)\n",
    "print('Unique matches played is-',len(unique_code))\n"
   ]
  },
  {
   "cell_type": "markdown",
   "metadata": {},
   "source": [
    "### Find the set of all unique teams that played in the matches in the data set."
   ]
  },
  {
   "cell_type": "code",
   "execution_count": 8,
   "metadata": {},
   "outputs": [
    {
     "name": "stdout",
     "output_type": "stream",
     "text": [
      "['Chennai Super Kings' 'Deccan Chargers' 'Kings XI Punjab'\n",
      " 'Kolkata Knight Riders' 'Mumbai Indians' 'Pune Warriors'\n",
      " 'Rajasthan Royals']\n",
      "Unique teams played are- 7\n"
     ]
    }
   ],
   "source": [
    "# this exercise deals with you getting to know that which are all those six teams that played in the tournament.\n",
    "\n",
    "teams= data_ipl[:,3:5]\n",
    "# [3:5--> are the columns]\n",
    "\n",
    "unique_teams= np.unique(teams)\n",
    "print(unique_teams)\n",
    "print('Unique teams played are-', len(unique_teams))"
   ]
  },
  {
   "cell_type": "code",
   "execution_count": null,
   "metadata": {},
   "outputs": [],
   "source": []
  },
  {
   "cell_type": "markdown",
   "metadata": {},
   "source": [
    "### Find sum of all extras in all deliveries in all matches in the dataset"
   ]
  },
  {
   "cell_type": "code",
   "execution_count": 10,
   "metadata": {},
   "outputs": [
    {
     "data": {
      "text/plain": [
       "88"
      ]
     },
     "execution_count": 10,
     "metadata": {},
     "output_type": "execute_result"
    }
   ],
   "source": [
    "# An exercise to make you familiar with indexing and slicing up within data.\n",
    "extras= data_ipl[:,17]\n",
    "\n",
    "extras_int= extras.astype(np.int16)\n",
    "extras_int.sum()"
   ]
  },
  {
   "cell_type": "markdown",
   "metadata": {},
   "source": [
    "### Get the array of all delivery numbers when a given player got out. Also mention the wicket type."
   ]
  },
  {
   "cell_type": "code",
   "execution_count": 23,
   "metadata": {},
   "outputs": [
    {
     "name": "stdout",
     "output_type": "stream",
     "text": [
      "[['0.1' '' '']\n",
      " ['0.2' '' '']\n",
      " ['0.3' '' '']\n",
      " ...\n",
      " ['17.6' '' '']\n",
      " ['17.7' '' '']\n",
      " ['18.1' '' '']]\n",
      "[False False False ... False False False]\n"
     ]
    },
    {
     "data": {
      "text/plain": [
       "array([['3.2', 'ST Jayasuriya', 'caught'],\n",
       "       ['5.5', 'Harbhajan Singh', 'caught'],\n",
       "       ['7.6', 'SR Tendulkar', 'caught'],\n",
       "       ['11.4', 'AM Nayar', 'bowled'],\n",
       "       ['15.6', 'GR Napier', 'caught'],\n",
       "       ['18.6', 'AM Rahane', 'caught'],\n",
       "       ['0.4', 'SC Ganguly', 'bowled'],\n",
       "       ['2.2', 'CH Gayle', 'bowled'],\n",
       "       ['14.5', 'MN van Wyk', 'caught'],\n",
       "       ['17.2', 'LR Shukla', 'bowled'],\n",
       "       ['18.6', 'BJ Hodge', 'run out'],\n",
       "       ['19.3', 'BB McCullum', 'caught'],\n",
       "       ['12.2', 'SR Tendulkar', 'lbw'],\n",
       "       ['13.5', 'Harbhajan Singh', 'caught'],\n",
       "       ['14.4', 'ST Jayasuriya', 'caught'],\n",
       "       ['15.1', 'AM Nayar', 'run out'],\n",
       "       ['16.6', 'DJ Bravo', 'caught'],\n",
       "       ['18.5', 'S Dhawan', 'caught'],\n",
       "       ['1.7', 'BB McCullum', 'caught'],\n",
       "       ['2.7', 'CH Gayle', 'caught'],\n",
       "       ['10.2', 'BJ Hodge', 'bowled'],\n",
       "       ['12.1', 'SC Ganguly', 'caught'],\n",
       "       ['12.3', 'AN Ghosh', 'caught'],\n",
       "       ['13.2', 'Yashpal Singh', 'caught'],\n",
       "       ['14.5', 'LR Shukla', 'caught'],\n",
       "       ['15.1', 'BAW Mendis', 'bowled'],\n",
       "       ['15.2', 'AB Dinda', 'bowled'],\n",
       "       ['1.5', 'HH Gibbs', 'caught'],\n",
       "       ['5.3', 'TL Suman', 'caught'],\n",
       "       ['9.4', 'AC Gilchrist', 'bowled'],\n",
       "       ['12.6', 'DR Smith', 'bowled'],\n",
       "       ['17.1', 'RG Sharma', 'caught'],\n",
       "       ['19.1', 'Y Venugopal Rao', 'run out'],\n",
       "       ['1.4', 'ST Jayasuriya', 'caught'],\n",
       "       ['1.5', 'SR Tendulkar', 'bowled'],\n",
       "       ['8.5', 'PR Shah', 'caught'],\n",
       "       ['14.1', 'DJ Bravo', 'caught'],\n",
       "       ['15.5', 'AM Nayar', 'bowled'],\n",
       "       ['15.6', 'Harbhajan Singh', 'bowled'],\n",
       "       ['17.1', 'JP Duminy', 'caught'],\n",
       "       ['17.3', 'SS Tiwary', 'stumped'],\n",
       "       ['5.3', 'BB McCullum', 'caught'],\n",
       "       ['7.2', 'DR Smith', 'caught'],\n",
       "       ['8.2', 'SK Raina', 'caught'],\n",
       "       ['10.1', 'F du Plessis', 'run out'],\n",
       "       ['11.1', 'MS Dhoni', 'caught'],\n",
       "       ['14.5', 'M Manhas', 'caught'],\n",
       "       ['1.3', 'AM Nayar', 'run out'],\n",
       "       ['5.2', 'AM Rahane', 'caught'],\n",
       "       ['6.4', 'SR Watson', 'caught'],\n",
       "       ['6.5', 'SV Samson', 'caught and bowled'],\n",
       "       ['10.5', 'STR Binny', 'caught'],\n",
       "       ['12.6', 'SPD Smith', 'caught'],\n",
       "       ['13.3', 'JP Faulkner', 'caught'],\n",
       "       ['14.2', 'TG Southee', 'bowled'],\n",
       "       ['18.3', 'R Bhatia', 'caught'],\n",
       "       ['19.5', 'PV Tambe', 'run out'],\n",
       "       ['9.2', 'M Vijay', 'caught'],\n",
       "       ['9.6', 'SK Raina', 'bowled'],\n",
       "       ['16.4', 'MS Dhoni', 'stumped'],\n",
       "       ['17.2', 'MEK Hussey', 'caught'],\n",
       "       ['17.5', 'JA Morkel', 'caught'],\n",
       "       ['19.6', 'S Anirudha', 'caught'],\n",
       "       ['2.4', 'MD Mishra', 'bowled'],\n",
       "       ['3.6', 'JD Ryder', 'bowled'],\n",
       "       ['4.6', 'MK Pandey', 'bowled'],\n",
       "       ['5.3', 'RV Uthappa', 'bowled'],\n",
       "       ['12.6', 'M Manhas', 'caught'],\n",
       "       ['18.3', 'Yuvraj Singh', 'caught'],\n",
       "       ['18.5', 'R Sharma', 'run out'],\n",
       "       ['19.1', 'JE Taylor', 'run out'],\n",
       "       ['19.2', 'NL McCullum', 'caught'],\n",
       "       ['4.5', 'K Goel', 'bowled'],\n",
       "       ['6.3', 'KC Sangakkara', 'caught and bowled'],\n",
       "       ['7.4', 'DPMD Jayawardene', 'stumped'],\n",
       "       ['8.6', 'JR Hopes', 'lbw'],\n",
       "       ['16.5', 'Yuvraj Singh', 'lbw'],\n",
       "       ['17.2', 'IK Pathan', 'bowled'],\n",
       "       ['17.4', 'B Lee', 'caught'],\n",
       "       ['18.6', 'S Sohal', 'run out'],\n",
       "       ['1.1', 'M Kaif', 'caught'],\n",
       "       ['2.3', 'YK Pathan', 'caught and bowled'],\n",
       "       ['4.5', 'Kamran Akmal', 'caught'],\n",
       "       ['11.2', 'DS Lehmann', 'lbw']], dtype='<U21')"
      ]
     },
     "execution_count": 23,
     "metadata": {},
     "output_type": "execute_result"
    }
   ],
   "source": [
    "subset = data_ipl[:,[11,20,21]]\n",
    "\n",
    "print(subset)\n",
    "\n",
    "cond= subset[:,2]!= ''   # condition to find not equal to blank\n",
    "print(cond)\n",
    "\n",
    "subset[cond]\n",
    "\n",
    "#Frequency distribution- how many people got out/bowled/lbw\n"
   ]
  },
  {
   "cell_type": "code",
   "execution_count": null,
   "metadata": {},
   "outputs": [],
   "source": []
  },
  {
   "cell_type": "markdown",
   "metadata": {},
   "source": [
    "### How many matches the team `Mumbai Indians` has won the toss?"
   ]
  },
  {
   "cell_type": "code",
   "execution_count": 4,
   "metadata": {},
   "outputs": [
    {
     "name": "stdout",
     "output_type": "stream",
     "text": [
      "[False  True  True ... False False False]\n",
      "[['392203' '2009-05-01' 'East London' ... '' '' '']\n",
      " ['392203' '2009-05-01' 'East London' ... '' '' '']\n",
      " ['392203' '2009-05-01' 'East London' ... '' '' '']\n",
      " ...\n",
      " ['392197' '2009-04-27' 'Port Elizabeth' ... '' '' '']\n",
      " ['392197' '2009-04-27' 'Port Elizabeth' ... 'BAW Mendis' 'bowled' '']\n",
      " ['392197' '2009-04-27' 'Port Elizabeth' ... 'AB Dinda' 'bowled' '']]\n",
      "Unique matchs- ['392197' '392203']\n",
      "Number of Matchs won by MI- 2\n"
     ]
    }
   ],
   "source": [
    "# this exercise will help you get the statistics on one particular team\n",
    "\n",
    "winner_cond = data_ipl[:,5] =='Mumbai Indians'\n",
    "subset= data_ipl[winner_cond]    #Subsetting the Rows\n",
    "print(winner_cond)\n",
    "print(subset)\n",
    "\n",
    "#Toss won by Mumbai indians\n",
    "unique_matchs= np.unique(subset[:,0])\n",
    "print('Unique matchs-',unique_matchs)\n",
    "print('Number of Matchs won by MI-', len(unique_matchs))"
   ]
  },
  {
   "cell_type": "markdown",
   "metadata": {},
   "source": [
    "### Create a filter that filters only those records where the batsman scored 6 runs. Also who has scored the maximum no. of sixes overall ?"
   ]
  },
  {
   "cell_type": "code",
   "execution_count": 38,
   "metadata": {},
   "outputs": [
    {
     "ename": "NameError",
     "evalue": "name 'sixes' is not defined",
     "output_type": "error",
     "traceback": [
      "\u001b[1;31m---------------------------------------------------------------------------\u001b[0m",
      "\u001b[1;31mNameError\u001b[0m                                 Traceback (most recent call last)",
      "\u001b[1;32m<ipython-input-38-7b37eeb65cd0>\u001b[0m in \u001b[0;36m<module>\u001b[1;34m\u001b[0m\n\u001b[0;32m      2\u001b[0m \u001b[1;33m\u001b[0m\u001b[0m\n\u001b[0;32m      3\u001b[0m \u001b[1;32mfrom\u001b[0m \u001b[0mcollections\u001b[0m \u001b[1;32mimport\u001b[0m \u001b[0mCounter\u001b[0m\u001b[1;33m\u001b[0m\u001b[1;33m\u001b[0m\u001b[0m\n\u001b[1;32m----> 4\u001b[1;33m \u001b[0mmost_sixes_scored\u001b[0m\u001b[1;33m=\u001b[0m \u001b[0mCounter\u001b[0m\u001b[1;33m(\u001b[0m\u001b[0msixes\u001b[0m\u001b[1;33m[\u001b[0m\u001b[1;33m:\u001b[0m\u001b[1;33m,\u001b[0m\u001b[1;36m13\u001b[0m\u001b[1;33m]\u001b[0m\u001b[1;33m,\u001b[0m\u001b[1;33m)\u001b[0m\u001b[1;33m\u001b[0m\u001b[1;33m\u001b[0m\u001b[0m\n\u001b[0m\u001b[0;32m      5\u001b[0m \u001b[1;33m\u001b[0m\u001b[0m\n\u001b[0;32m      6\u001b[0m \u001b[1;33m\u001b[0m\u001b[0m\n",
      "\u001b[1;31mNameError\u001b[0m: name 'sixes' is not defined"
     ]
    }
   ],
   "source": [
    "# An exercise to know who is the most aggresive player or maybe the scoring player \n",
    "\n",
    "# from collections import Counter\n",
    "# most_sixes_scored= Counter(sixes[:,13],)\n",
    "\n",
    "\n",
    "# batsman_score= data_ipl[:,16]\n",
    "# print(batsman_score)\n",
    "\n"
   ]
  },
  {
   "cell_type": "code",
   "execution_count": 11,
   "metadata": {},
   "outputs": [
    {
     "name": "stdout",
     "output_type": "stream",
     "text": [
      "['AC Gilchrist' 'BJ Hodge' 'CH Gayle' 'DR Smith' 'DS Kulkarni'\n",
      " 'Harbhajan Singh' 'IK Pathan' 'JD Ryder' 'JP Duminy' 'K Goel'\n",
      " 'KC Sangakkara' 'Kamran Akmal' 'M Manhas' 'M Vijay' 'MEK Hussey'\n",
      " 'MS Dhoni' 'PR Shah' 'R Bhatia' 'RA Jadeja' 'RG Sharma' 'RR Raje'\n",
      " 'S Badrinath' 'SC Ganguly' 'SR Tendulkar' 'SR Watson' 'ST Jayasuriya'\n",
      " 'SV Samson' 'TL Suman' 'Y Venugopal Rao' 'Yuvraj Singh']\n",
      "[1 3 1 4 2 2 1 1 4 2 1 1 1 1 1 1 2 1 1 1 1 1 1 6 6 4 2 2 1 3]\n",
      "--------------------------------------------------\n",
      "Player who has hit max. 6- SR Tendulkar\n"
     ]
    }
   ],
   "source": [
    "cond= data_ipl[:,16].astype(np.int16)== 6\n",
    "cond\n",
    "\n",
    "sixes=data_ipl[cond]\n",
    "unique_player, no_of_sixes = np.unique(sixes[:,13], return_counts= True)\n",
    "\n",
    "print(unique_player)\n",
    "\n",
    "print(no_of_sixes)\n",
    "print(\"-\"*50)\n",
    "print('Player who has hit max. 6-', unique_player[no_of_sixes.argmax()])"
   ]
  },
  {
   "cell_type": "code",
   "execution_count": null,
   "metadata": {},
   "outputs": [],
   "source": []
  },
  {
   "cell_type": "code",
   "execution_count": null,
   "metadata": {},
   "outputs": [],
   "source": []
  }
 ],
 "metadata": {
  "kernelspec": {
   "display_name": "Python 3",
   "language": "python",
   "name": "python3"
  },
  "language_info": {
   "codemirror_mode": {
    "name": "ipython",
    "version": 3
   },
   "file_extension": ".py",
   "mimetype": "text/x-python",
   "name": "python",
   "nbconvert_exporter": "python",
   "pygments_lexer": "ipython3",
   "version": "3.7.3"
  }
 },
 "nbformat": 4,
 "nbformat_minor": 2
}
